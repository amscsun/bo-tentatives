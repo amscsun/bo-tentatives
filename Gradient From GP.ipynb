{
 "cells": [
  {
   "cell_type": "markdown",
   "metadata": {},
   "source": [
    "## Gradient From GP with `GPy`\n",
    "\n",
    "This file is for testing extracting the gradient from fitted GP regression models. While doing this, make sure you fork the package and develop your own version on top of it, including the functionalities to be used in future work."
   ]
  },
  {
   "cell_type": "markdown",
   "metadata": {},
   "source": [
    "### The `GPy` Package\n",
    "\n",
    "From Shiefield university. Use the local copy to ensure smooth modification of the implementation."
   ]
  }
 ],
 "metadata": {
  "kernelspec": {
   "display_name": "Python 3",
   "language": "python",
   "name": "python3"
  },
  "language_info": {
   "codemirror_mode": {
    "name": "ipython",
    "version": 3
   },
   "file_extension": ".py",
   "mimetype": "text/x-python",
   "name": "python",
   "nbconvert_exporter": "python",
   "pygments_lexer": "ipython3",
   "version": "3.6.4"
  }
 },
 "nbformat": 4,
 "nbformat_minor": 2
}
